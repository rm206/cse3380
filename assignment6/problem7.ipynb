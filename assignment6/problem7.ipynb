{
  "cells": [
    {
      "cell_type": "markdown",
      "metadata": {
        "id": "h-gpXkZKGxP_"
      },
      "source": [
        "# Computing Affine Transformations\n",
        "\n",
        "One important result of solving linear systems is to compute a transformation between two different sets of points.\n",
        "\n",
        "Given a set of points from the original coordinate system and another set of the same points transformed by $A$, how do we solve for that transformation matrix?\n",
        "\n",
        "We are looking for some $A$ such that\n",
        "\n",
        "$$\n",
        "A \\mathbf{x} = \\hat{\\mathbf{x}}.\n",
        "$$\n",
        "\n",
        "In a perfect world, $\\hat{\\mathbf{x}}$ will match the target points $\\mathbf{y}$. In other words,\n",
        "\n",
        "$$\n",
        "\\|\\hat{\\mathbf{x}} - \\mathbf{y}\\|_2 = 0.\n",
        "$$\n",
        "\n",
        "**For this problem, we will assume this is the case.**\n",
        "\n",
        "For an affine transformation, we would have some matrix of the form\n",
        "\n",
        "$$\n",
        "A = \\begin{bmatrix}\n",
        "a_{11} & a_{12} & a_{13}\\\\\n",
        "a_{21} & a_{22} & a_{23}\n",
        "\\end{bmatrix}.\n",
        "$$\n",
        "\n",
        "Given a homogeneous 2D coordinate $\\mathbf{x}$, we can compute each component $A\\mathbf{x}$ as\n",
        "\n",
        "\\begin{align*}\n",
        "\\hat{x}_1 &= a_{11} * x_1 + a_{12} * x_2 + a_{13} * 1\\\\\n",
        "\\hat{x}_2 &= a_{21} * x_1 + a_{22} * x_2 + a_{23} * 1\\\\\n",
        "\\end{align*}\n",
        "\n",
        "We can fit this using a least squares approach by the following construction.\n",
        "\n",
        "\\begin{equation*}\n",
        "\\begin{bmatrix}\n",
        "x_1^{(1)} & x_2^{(1)} & 1 & 0 & 0 & 0\\\\\n",
        "0 & 0 & 0 & x_1^{(1)} & x_2^{(1)} & 1\\\\\n",
        "&& \\vdots\\\\\n",
        "x_1^{(n)} & x_2^{(n)} & 1 & 0 & 0 & 0\\\\\n",
        "0 & 0 & 0 & x_1^{(n)} & x_2^{(n)} & 1\\\\\n",
        "\\end{bmatrix}\n",
        "\\begin{bmatrix}\n",
        "a_{11}\\\\\n",
        "a_{12}\\\\\n",
        "a_{13}\\\\\n",
        "a_{21}\\\\\n",
        "a_{22}\\\\\n",
        "a_{23}\\\\\n",
        "\\end{bmatrix}=\n",
        "\\begin{bmatrix}\n",
        "\\hat{x}_1^{(1)}\\\\\n",
        "\\hat{x}_2^{(1)}\\\\\n",
        "\\vdots\\\\\n",
        "\\hat{x}_1^{(n)}\\\\\n",
        "\\hat{x}_2^{(n)}\\\\\n",
        "\\end{bmatrix}\n",
        "\\end{equation*}\n",
        "\n",
        "We can solve this using the *normal equations*:\n",
        "\n",
        "$$\n",
        "A^T A \\mathbf{x} = A^T \\mathbf{b}.\n",
        "$$\n"
      ]
    },
    {
      "cell_type": "code",
      "execution_count": 28,
      "metadata": {
        "id": "e4maPg_sJ4Yy"
      },
      "outputs": [],
      "source": [
        "import numpy as np\n",
        "import matplotlib.pyplot as plt"
      ]
    },
    {
      "cell_type": "code",
      "execution_count": 29,
      "metadata": {
        "id": "_DLoMbxyIylI"
      },
      "outputs": [],
      "source": [
        "\n",
        "def compute_affine_transform(src, dst):\n",
        "    \"\"\"Computes the affine transformation matrix `A` such that A @ src = dst.\"\"\"\n",
        "    num_samples = src.shape[0]\n",
        "    \n",
        "    # Convert to homogeneous coordinates\n",
        "    src_affine = np.concatenate((src, np.ones((num_samples, 1))), axis=1)\n",
        "    zero_buffer = np.zeros_like(src_affine)\n",
        "    r1 = np.concatenate((src_affine, zero_buffer), axis=1)\n",
        "    r2 = np.concatenate((zero_buffer, src_affine), axis=1)\n",
        "    \n",
        "    # Construct our design matrix X by interleaving the two equations required\n",
        "    # for each point correspondence.\n",
        "    X = np.empty((r1.shape[0] + r2.shape[0], r1.shape[1]), dtype=r1.dtype)\n",
        "    X[0::2] = r1\n",
        "    X[1::2] = r2\n",
        "    \n",
        "    # Flatten the target points into a vector (this is the b vector from above)\n",
        "    y = dst.ravel()\n",
        "    \n",
        "    # TODO: Compute M by using the normal equations.\n",
        "    # Here, M corresponds to the solution vector x from above.\n",
        "    M = np.linalg.inv(X.T @ X) @ X.T @ y\n",
        "    \n",
        "\n",
        "    # Resahpe our solution vector (x in the equations above) into a 3x3\n",
        "    # affine transformation matrix.\n",
        "    M = np.reshape(M, (2, 3))\n",
        "    M = np.vstack((M, np.zeros((1, M.shape[1]))))\n",
        "    M[2, 2] = 1\n",
        "    \n",
        "    return M"
      ]
    },
    {
      "cell_type": "code",
      "execution_count": 30,
      "metadata": {
        "colab": {
          "base_uri": "https://localhost:8080/",
          "height": 300
        },
        "id": "57x1uU78Jw56",
        "outputId": "2c57ee22-73b7-4339-dc0a-4bfe9d62620c"
      },
      "outputs": [
        {
          "name": "stdout",
          "output_type": "stream",
          "text": [
            "Error = 6.672834137829149e-16\n"
          ]
        },
        {
          "data": {
            "text/plain": [
              "<matplotlib.collections.PathCollection at 0x127291de0>"
            ]
          },
          "execution_count": 30,
          "metadata": {},
          "output_type": "execute_result"
        },
        {
          "data": {
            "image/png": "[encoded data removed]",
            "text/plain": [
              "<Figure size 640x480 with 1 Axes>"
            ]
          },
          "metadata": {},
          "output_type": "display_data"
        }
      ],
      "source": [
        "# Randomly sample a pattern and then transform it by some random rotation.\n",
        "num_points = 100\n",
        "x = np.random.rand(num_points, 2) * 2 - 1\n",
        "\n",
        "# Create a random rotation matrix\n",
        "theta = np.random.uniform(0, np.pi)\n",
        "R = np.array([\n",
        "    [np.cos(theta), -np.sin(theta), 0],\n",
        "    [np.sin(theta), np.cos(theta), 0],\n",
        "    [0, 0, 1]\n",
        "])\n",
        "\n",
        "y = R @ np.concatenate((x, np.ones((100, 1))), axis=1).T\n",
        "y = y.T[:, :2]\n",
        "\n",
        "# Call `compute_affine_transform` to estimate the rotation matrix\n",
        "M = compute_affine_transform(x, y)\n",
        "\n",
        "# Compute the norm between the true matrix and estimated matrix.\n",
        "# This should be a very small number close to 0.\n",
        "estimation_error = np.linalg.norm(R - M)\n",
        "print(f\"Error = {estimation_error}\")\n",
        "\n",
        "plt.scatter(x[:, 0], x[:, 1], c='b')\n",
        "plt.scatter(y[:, 0], y[:, 1], c='r')"
      ]
    }
  ],
  "metadata": {
    "colab": {
      "name": "compute-affine-transform.ipynb",
      "provenance": []
    },
    "kernelspec": {
      "display_name": "Python 3.10.6 ('cse3380')",
      "language": "python",
      "name": "python3"
    },
    "language_info": {
      "codemirror_mode": {
        "name": "ipython",
        "version": 3
      },
      "file_extension": ".py",
      "mimetype": "text/x-python",
      "name": "python",
      "nbconvert_exporter": "python",
      "pygments_lexer": "ipython3",
      "version": "3.10.6"
    },
    "vscode": {
      "interpreter": {
        "hash": "c4c35a84f4125d4fa9bc9df5aa5d25b35f770f11c33584b128b01e3d384d7b06"
      }
    }
  },
  "nbformat": 4,
  "nbformat_minor": 0
}
